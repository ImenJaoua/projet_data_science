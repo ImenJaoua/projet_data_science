{
  "cells": [
    {
      "cell_type": "markdown",
      "metadata": {
        "id": "QfY8t6_IuVcL"
      },
      "source": [
        "[PlayTypes](https://statsapi.web.nhl.com/api/v1/playTypes)\n",
        "[Example game](https://statsapi.web.nhl.com/api/v1/game/2017020001/feed/live)\n",
        "[Example team](https://statsapi.web.nhl.com/api/v1/teams/10)"
      ]
    },
    {
      "cell_type": "markdown",
      "metadata": {
        "id": "5Ga-oiT2Itmz"
      },
      "source": [
        "# Imports"
      ]
    },
    {
      "cell_type": "code",
      "execution_count": null,
      "metadata": {},
      "outputs": [],
      "source": [
        "%load_ext autoreload\n",
        "%autoreload 2"
      ]
    },
    {
      "cell_type": "code",
      "execution_count": null,
      "metadata": {},
      "outputs": [],
      "source": [
        "import pathlib\n",
        "if pathlib.Path().resolve().name == 'notebooks':\n",
        "    %cd ..\n",
        "%pwd"
      ]
    },
    {
      "cell_type": "code",
      "execution_count": null,
      "metadata": {
        "id": "wUtIcPjBIw24"
      },
      "outputs": [],
      "source": [
        "import plotly.graph_objects as go\n",
        "import plotly.express as px\n",
        "import pandas as pd\n",
        "import numpy as np\n",
        "from src.data import NHLDataDownloader\n",
        "from scipy import stats\n",
        "from src.utils import normalize\n",
        "import ipywidgets as widgets\n",
        "from IPython.display import display\n",
        "import pprint\n",
        "from PIL import Image"
      ]
    },
    {
      "cell_type": "markdown",
      "metadata": {
        "id": "WF0f3VGNtUZw"
      },
      "source": [
        "# Raw data\n"
      ]
    },
    {
      "cell_type": "code",
      "execution_count": null,
      "metadata": {
        "colab": {
          "base_uri": "https://localhost:8080/"
        },
        "id": "3mjoFbeS8GBV",
        "outputId": "4e545ac7-0bcd-4be4-8cbb-af7d003387f4"
      },
      "outputs": [],
      "source": [
        "# Utilisation du téléchargeur de données NHL\n",
        "\n",
        "# Étape 1: Spécifier la saison\n",
        "season_year = 2018\n",
        "nhl_downloader = NHLDataDownloader(season_year)\n",
        "\n",
        "# Étape 2: Télécharger les données\n",
        "season_data = nhl_downloader.load_data()\n"
      ]
    },
    {
      "cell_type": "code",
      "execution_count": null,
      "metadata": {
        "colab": {
          "base_uri": "https://localhost:8080/"
        },
        "id": "fdBVV8118Jv6",
        "outputId": "bd8b917a-bb2e-4bb9-e17a-693530cc3344"
      },
      "outputs": [],
      "source": [
        "for play in season_data['regulars'][0]['liveData']['plays']['allPlays']:\n",
        "  if play['result']['event'] == 'Shot':\n",
        "    shot_exemple = play\n",
        "  if play['result']['event'] == 'Goal':\n",
        "    goal_exemple = play\n",
        "\n",
        "shot_exemple"
      ]
    },
    {
      "cell_type": "code",
      "execution_count": null,
      "metadata": {
        "colab": {
          "base_uri": "https://localhost:8080/"
        },
        "id": "FJnvTIom8MR3",
        "outputId": "c03082c1-77df-4d27-ac2a-7cef8318dcac"
      },
      "outputs": [],
      "source": [
        "goal_exemple"
      ]
    },
    {
      "cell_type": "markdown",
      "metadata": {},
      "source": [
        "## Outil de débogage interactif"
      ]
    },
    {
      "cell_type": "code",
      "execution_count": null,
      "metadata": {},
      "outputs": [],
      "source": [
        "rink_image = Image.open(\"figures/nhl_rink.png\")\n",
        "\n",
        "pp = pprint.PrettyPrinter(indent=4)\n",
        "\n",
        "data = season_data\n",
        "\n",
        "# Dropdown to select 'regulars' or 'playoffs'\n",
        "type_dropdown = widgets.Dropdown(options=['regulars', 'playoffs'],\n",
        "                                 description='Type:')\n",
        "\n",
        "# Slider to switch between different games\n",
        "game_slider = widgets.IntSlider(value=0,\n",
        "                                min=0,\n",
        "                                max= len(data['regulars']) - 1,\n",
        "                                description='Game Index:')\n",
        "\n",
        "# Slider to switch between different plays\n",
        "play_slider = widgets.IntSlider(value=0,\n",
        "                                min=0,\n",
        "                                max=len(data[\n",
        "                                    'regulars'][0][\n",
        "                                        'liveData'][\n",
        "                                            'plays'][\n",
        "                                                'allPlays']) - 1,\n",
        "                                description='Play Index:')\n",
        "\n",
        "# Output widget to display the plot\n",
        "plot_output = widgets.Output()\n",
        "\n",
        "def update_game_slider_range(*args):\n",
        "    \"\"\"Update the game slider range based on the type selected.\"\"\"\n",
        "    test = {\"test\":\"regulars\"}\n",
        "    if type_dropdown.value == 'regulars':\n",
        "        game_slider.max = len(data['regulars']) - 1\n",
        "    else:\n",
        "        game_slider.max = len(data['playoffs']) - 1\n",
        "type_dropdown.observe(update_game_slider_range, 'value')\n",
        "\n",
        "def update_play_slider_range(*args):\n",
        "    \"\"\"Update the play slider range based on game_slider's value.\"\"\"\n",
        "    if type_dropdown.value == 'regulars':\n",
        "        coords_length = len(data[\n",
        "            'regulars'][\n",
        "                game_slider.value][\n",
        "                    'liveData'][\n",
        "                        'plays'][\n",
        "                            'allPlays']) - 1\n",
        "    else:\n",
        "        key = list(data['playoffs'].keys())[game_slider.value]\n",
        "        coords_length = len(data[\n",
        "            'playoffs'][\n",
        "                key][\n",
        "                    'liveData'][\n",
        "                        'plays'][\n",
        "                            'allPlays']) - 1\n",
        "    \n",
        "    play_slider.max = coords_length - 1\n",
        "game_slider.observe(update_play_slider_range, 'value')\n",
        "\n",
        "def plot_coordinates(change):\n",
        "    \"\"\"Plot the coordinates based on the selected options.\"\"\"\n",
        "    with plot_output:\n",
        "        plot_output.clear_output(wait=True)\n",
        "\n",
        "        if type_dropdown.value == 'regulars':\n",
        "            game = data['regulars'][game_slider.value]\n",
        "\n",
        "        else:\n",
        "            key = list(data['playoffs'].keys())[game_slider.value]\n",
        "            game = data['playoffs'][key]\n",
        "\n",
        "        play = game[\n",
        "            'liveData'][\n",
        "                'plays'][\n",
        "                    'allPlays'][\n",
        "                        play_slider.value]\n",
        "        coords = play['coordinates']\n",
        "        teams = game['liveData']['linescore']['teams']\n",
        "\n",
        "        home = teams[\"home\"][\"team\"][\"triCode\"]\n",
        "        home_score = teams[\"home\"][\"goals\"]\n",
        "        away = teams[\"away\"][\"team\"][\"triCode\"]\n",
        "        away_score = teams[\"away\"][\"goals\"]\n",
        "\n",
        "        print(f'{home} {home_score} goals vs {away} {away_score} goals')\n",
        "        pp.pprint(play)\n",
        "\n",
        "        if len(coords) == 0:\n",
        "          coords = {'x':None, 'y':None}\n",
        "\n",
        "        fig = go.Figure()\n",
        "\n",
        "        fig.add_trace(go.Scatter(x= [coords['x']], y=[coords['y']],\n",
        "                                mode='markers',\n",
        "                                marker_size=15,\n",
        "                                marker_color=\"#111111\"))\n",
        "\n",
        "        # Add images\n",
        "        fig.add_layout_image(\n",
        "                dict(\n",
        "                    source=rink_image,\n",
        "                    xref=\"x\",\n",
        "                    yref=\"y\",\n",
        "                    x=-100,\n",
        "                    y=42.5,\n",
        "                    sizex=200,\n",
        "                    sizey=85,\n",
        "                    sizing=\"stretch\",\n",
        "                    opacity=0.9,\n",
        "                    layer=\"below\")\n",
        "        )\n",
        "\n",
        "        fig.update_xaxes(\n",
        "            showline=False,\n",
        "            zeroline=False,\n",
        "            showgrid=False,\n",
        "            range=[-100, 100])\n",
        "        fig.update_yaxes(\n",
        "            showline=False,\n",
        "            zeroline=False,\n",
        "            showgrid=False,\n",
        "            range=[-42.5, 42.5],\n",
        "            scaleanchor = \"x\",\n",
        "            scaleratio = 1,\n",
        "          )\n",
        "\n",
        "        fig.update_layout(\n",
        "            autosize=False,\n",
        "            template=\"plotly_white\")\n",
        "\n",
        "        fig.show()\n",
        "\n",
        "# Watch for changes\n",
        "type_dropdown.observe(plot_coordinates, 'value')\n",
        "game_slider.observe(plot_coordinates, 'value')\n",
        "play_slider.observe(plot_coordinates, 'value')\n",
        "\n",
        "# Initial plot\n",
        "plot_coordinates(None)\n",
        "\n",
        "# Display widgets\n",
        "display(type_dropdown, game_slider, play_slider, plot_output)"
      ]
    },
    {
      "cell_type": "markdown",
      "metadata": {
        "id": "TxgGUnpDIK7T"
      },
      "source": [
        "# To DataFrames"
      ]
    },
    {
      "cell_type": "code",
      "execution_count": null,
      "metadata": {},
      "outputs": [],
      "source": [
        "season_year = 2020\n",
        "nhl_downloader.set_season(season_year)\n",
        "df = nhl_downloader.load_df_shots()\n",
        "df"
      ]
    },
    {
      "cell_type": "markdown",
      "metadata": {
        "id": "EBhpl93lO5bh"
      },
      "source": [
        "# Visualisations simples"
      ]
    },
    {
      "cell_type": "markdown",
      "metadata": {
        "id": "xo9UIZjrNfHj"
      },
      "source": [
        "## Number of shots, by type"
      ]
    },
    {
      "cell_type": "code",
      "execution_count": null,
      "metadata": {
        "colab": {
          "base_uri": "https://localhost:8080/",
          "height": 542
        },
        "id": "GJI6tbcn19uE",
        "outputId": "8b0b7da6-8da9-436b-f156-2093523c1946"
      },
      "outputs": [],
      "source": [
        "ddf = df[df['Type'] != '']\n",
        "df_g = ddf.groupby(['Type', 'Goal']).size().to_frame('Counts').reset_index()\n",
        "df_g['Percentage'] = df_g['Counts'] / df_g.groupby('Type')['Counts'].transform('sum') * 100\n",
        "\n",
        "px.bar(df_g,\n",
        "       x='Type',\n",
        "       y='Counts',\n",
        "       color='Goal',\n",
        "       title=f'Number of shots, by type, Saison {season_year}',\n",
        "       log_y=True,\n",
        "       text=df_g['Percentage'].apply(lambda x: '{0:1.2f}%'.format(x)),\n",
        "       height=550\n",
        "       ).update_xaxes(categoryorder='total descending')"
      ]
    },
    {
      "cell_type": "markdown",
      "metadata": {
        "id": "2VMAjmd4NldB"
      },
      "source": [
        "## Distance to net"
      ]
    },
    {
      "cell_type": "code",
      "execution_count": null,
      "metadata": {
        "id": "TB61ypJMpOqZ"
      },
      "outputs": [],
      "source": [
        "bins = pd.IntervalIndex.from_tuples([(0, 5), (5, 10), (10, 20), (20, 30), (30, 40), (40, 50), (50, 60), (60, 75), (75, 90), (90, 120), (120, 150), (150, 190)])\n",
        "\n",
        "df_g = df.groupby(['Goal','Net_distance']).size().to_frame('Counts').reset_index()\n",
        "df_g['Bins'] = pd.cut(df_g['Net_distance'], bins, precision=0)\n",
        "df_g = df_g.groupby(['Goal','Bins'], observed=True)['Counts'].sum().to_frame('Counts').reset_index()\n",
        "df_g['Percentage'] = df_g['Counts'] / df_g.groupby('Bins', observed=True)['Counts'].transform('sum') * 100\n",
        "df_g['Bins'] = df_g['Bins'].astype('str')\n",
        "\n",
        "fig = px.bar(df_g,\n",
        "       x='Bins',\n",
        "       y='Counts',\n",
        "       color='Goal',\n",
        "       title=f'Number of shots, by distance, Saison {season_year}',\n",
        "       log_y=True,\n",
        "       text=df_g['Percentage'].apply(lambda x: '{0:1.2f}%'.format(x)),\n",
        "       height=550,\n",
        "       labels=dict(Bins='Distance (ft)', Counts=\"Counts\"))\n",
        "\n",
        "fig.show()\n",
        "fig.write_html(f'figures/shot-distance-{season_year}.html')"
      ]
    },
    {
      "cell_type": "markdown",
      "metadata": {},
      "source": [
        "## Percentage of Goals by type and distance"
      ]
    },
    {
      "cell_type": "code",
      "execution_count": null,
      "metadata": {},
      "outputs": [],
      "source": [
        "df_td = df.copy()\n",
        "df_td = df_td[(df_td['Type'] != '') & (~df_td['Net_distance'].isna())]\n",
        "df_td['Distance'] = pd.qcut(df_td['Net_distance'], 12, precision=0)\n",
        "\n",
        "grouped = df_td.groupby(['Type', 'Distance']).agg(Total_Shots=('Goal', 'size'), Goals=('Goal', 'sum')).reset_index()\n",
        "grouped['Percentage'] = grouped['Goals'] / grouped['Total_Shots'] * 100\n",
        "\n",
        "q3 = grouped.Percentage.quantile(0.75)\n",
        "iqr = q3 - grouped.Percentage.quantile(0.25)\n",
        "upper_fence = q3 + 1.5 * iqr\n",
        "# Emperical value\n",
        "upper_fence = 33\n",
        "grouped = grouped[grouped['Percentage'] < upper_fence]\n",
        "\n",
        "grouped = grouped.pivot(index='Type', columns='Distance')['Percentage']\n",
        "grouped.columns = grouped.columns.astype('str')\n",
        "grouped.fillna(0, inplace=True)\n",
        "\n",
        "fig = px.imshow(grouped, width=800, height=650, labels=dict(y='Shot Type', x=\"Distance (ft)\", color=\"Goal Percentage\"),\n",
        "                title=f'Goals success rate by type and distance, Saison {season_year}')\n",
        "fig.update_xaxes(side=\"top\")\n",
        "fig.update_layout(title_font_size=25)\n",
        "fig.show()\n",
        "fig.write_html(f'figures/type-shot-distance-{season_year}.html')"
      ]
    },
    {
      "cell_type": "code",
      "execution_count": null,
      "metadata": {
        "id": "ZgL6SXOOjq2Q"
      },
      "outputs": [],
      "source": [
        "df_sl = df[df.X_dist < 90]\n",
        "df_sl = df_sl.groupby(['X_dist', 'Y']).size().to_frame('Counts').reset_index()\n",
        "df_sl = df_sl.pivot(index='X_dist', columns='Y')['Counts'].fillna(0)\n",
        "\n",
        "fig = px.imshow(np.log(df_sl + 1), width=600, height=600,\n",
        "          labels=dict(x='Distance from center of rink (ft)', y=\"Distance from goal line (ft)\", color=\"Number of shots (log)\"),\n",
        "          title='Shots location',\n",
        "          )\n",
        "fig.update_layout(title_font_size=30)"
      ]
    },
    {
      "cell_type": "markdown",
      "metadata": {},
      "source": [
        "# Visualisations avancées"
      ]
    },
    {
      "cell_type": "code",
      "execution_count": null,
      "metadata": {
        "id": "mPRJ2XqGG99_"
      },
      "outputs": [],
      "source": [
        "def get_shots_location(df: pd.DataFrame, team: str) -> pd.DataFrame:\n",
        "    \"\"\"\n",
        "    Get the difference between the average number of shot by all teams vs the specified team.\n",
        "\n",
        "    Args:\n",
        "        df : DataFrame returned by the fonction load_df_shots.\n",
        "        team: Tricode of the team. e.g. 'MTL'\n",
        "    \"\"\"\n",
        "    df_tot = df[df.X_dist < 90]\n",
        "    df_team = df_tot[df_tot.Team == team]\n",
        "    ng=df_team.Game_id.nunique()\n",
        "    #print(ng)\n",
        "\n",
        "    # Get the average number of shots for every location\n",
        "    df_tot = df_tot.groupby(['X_dist', 'Y']).size().to_frame('Counts').reset_index()\n",
        "    df_tot = df_tot.pivot(index='X_dist', columns='Y')['Counts'].fillna(0)\n",
        "    df_tot = df_tot / (df.Game_id.nunique() * 2)\n",
        "    df_tot = pd.melt(df_tot.reset_index(), id_vars='X_dist', value_vars=df_tot.columns)\n",
        "\n",
        "    # Get the team average number of shots for every location\n",
        "    df_team = df_team.groupby(['X_dist', 'Y']).size().to_frame('Counts').reset_index()\n",
        "    df_team = df_team.pivot(index='X_dist', columns='Y')['Counts'].fillna(0)\n",
        "    df_team = df_team / ng\n",
        "\n",
        "    df_team = pd.melt(df_team.reset_index(), id_vars='X_dist', value_vars=df_team.columns)\n",
        "\n",
        "    # Compute the difference\n",
        "    df_sl = pd.merge(df_tot, df_team, on=[\"X_dist\", \"Y\"],  how=\"outer\").fillna(0)\n",
        "    df_sl[\"dif\"] = df_sl.value_y - df_sl.value_x\n",
        "\n",
        "\n",
        "    # Compute the binned difference\n",
        "    df_sl['ybin'] = pd.cut(df_sl.Y, 15)\n",
        "    df_sl['xbin'] = pd.cut(df_sl.X_dist, 15)\n",
        "    df_sl['dif_bin'] = df_sl.groupby(['xbin', 'ybin'], observed=True).dif.transform('sum')\n",
        "\n",
        "    return df_sl"
      ]
    },
    {
      "cell_type": "code",
      "execution_count": null,
      "metadata": {},
      "outputs": [],
      "source": [
        "def get_dens(team,df):\n",
        "    \"\"\"\n",
        "    Compute the difference between shots after applying kde.\n",
        "\n",
        "    Args:\n",
        "        team: Tricode of the team. e.g. 'MTL'\n",
        "    \"\"\"\n",
        "\n",
        "    dfs = get_shots_location(df, team)\n",
        "    max = dfs.dif_bin.max()\n",
        "\n",
        "    values = [dfs.X_dist.values, dfs.Y.values]\n",
        "    weights_tot = dfs.value_x.values\n",
        "    weights_team = dfs.value_y.values\n",
        "\n",
        "    gauss_tot = stats.gaussian_kde(values, bw_method=0.3,weights=weights_tot)\n",
        "    gauss_team = stats.gaussian_kde(values, bw_method=0.3,weights=weights_team)\n",
        "\n",
        "\n",
        "    x = np.linspace(0, 89, 90)\n",
        "    y = np.linspace(-42, 42, 85)\n",
        "    X, Y = np.meshgrid(x, y)\n",
        "    xy = np.vstack([X.ravel(), Y.ravel()])\n",
        "    dens_tot = np.exp(gauss_tot(xy)).reshape((X.shape))\n",
        "    dens_team= np.exp(gauss_team(xy)).reshape((X.shape))\n",
        "\n",
        "    dens = dens_team - dens_tot\n",
        "\n",
        "    ratio = np.array(dens).reshape(-1).min() / np.array(dens).reshape(-1).max()\n",
        "    return normalize(np.flip(dens), max * ratio, max)"
      ]
    },
    {
      "cell_type": "code",
      "execution_count": null,
      "metadata": {},
      "outputs": [],
      "source": [
        "rink_image = Image.open(\"figures/half_nhl_rink.png\")\n",
        "\n",
        "fig = go.Figure()\n",
        "\n",
        "x = np.linspace(0, 89, 90)\n",
        "y = np.linspace(-42, 42, 85)\n",
        "\n",
        "teams = df.Team.unique()\n",
        "visibility = [False] * len(teams)\n",
        "dropdown_list = []\n",
        "\n",
        "fig.add_trace(\n",
        "    go.Contour(\n",
        "        z=get_dens(teams[0],df),\n",
        "        # z=np.flip(dens_team - dens_tot),\n",
        "        x=x,\n",
        "        y=y,\n",
        "        opacity = 0.6,\n",
        "        colorscale='RdBu_r',\n",
        "        contours_coloring='fill',  # This will fill the contours\n",
        "        contours=dict(start=-0.5, end=0.5, size=0.05),  # You can adjust these parameters\n",
        "        visible=True\n",
        "    )\n",
        ")\n",
        "\n",
        "vis = visibility.copy()\n",
        "vis[0] = True\n",
        "\n",
        "dropdown_list.append(dict(\n",
        "                args=[{\"visible\": vis}],\n",
        "                label=teams[0],\n",
        "                method=\"restyle\"\n",
        "            ))\n",
        "\n",
        "for id, team in enumerate(teams[1:]):\n",
        "\n",
        "\n",
        "# Plotly Contour Plot\n",
        "    fig.add_trace(\n",
        "        go.Contour(\n",
        "            z=get_dens(team,df),\n",
        "            x=x,\n",
        "            y=y,\n",
        "            opacity = 0.6,\n",
        "            colorscale='RdBu_r',\n",
        "            contours_coloring='fill',\n",
        "            contours=dict(start=-0.5, end=0.5, size=0.05),\n",
        "            visible=False\n",
        "        )\n",
        "    )\n",
        "\n",
        "    vis = visibility.copy()\n",
        "    vis[id + 1] = True\n",
        "\n",
        "    dropdown_list.append(dict(\n",
        "                    args=[{\"visible\": vis}],\n",
        "                    label=team,\n",
        "                    method=\"restyle\"\n",
        "                ))\n",
        "\n",
        "\n",
        "fig.update_layout(\n",
        "    height=600,\n",
        "    width=680,\n",
        "    title = f'Season {season_year}',\n",
        "    title_font_size=30,\n",
        "    updatemenus=[\n",
        "        dict(\n",
        "            active=0,\n",
        "            buttons=dropdown_list,\n",
        "            showactive=True,\n",
        "            x=0.35,\n",
        "            xanchor=\"left\",\n",
        "            y=1.18,\n",
        "            yanchor=\"top\"\n",
        "        ),\n",
        "    ]\n",
        ")\n",
        "fig.add_layout_image(\n",
        "        dict(\n",
        "            source=rink_image,\n",
        "            xref=\"x\",\n",
        "            yref=\"y\",\n",
        "            x=0,\n",
        "            y=42.5,\n",
        "            sizex=100,\n",
        "            sizey=85,\n",
        "            opacity=1,\n",
        "            layer=\"below\")\n",
        ")\n",
        "\n",
        "fig.update_xaxes(showline=False, zeroline=False, showgrid=False, range=[0, 100])\n",
        "fig.update_yaxes(\n",
        "    showline=False,\n",
        "    zeroline=False,\n",
        "    showgrid=False,\n",
        "    range=[-42.5, 42.5],\n",
        "    scaleanchor = \"x\",\n",
        "    scaleratio = 1,\n",
        "  )\n",
        "\n",
        "fig.show()"
      ]
    }
  ],
  "metadata": {
    "colab": {
      "provenance": []
    },
    "kernelspec": {
      "display_name": "venv",
      "language": "python",
      "name": "python3"
    },
    "language_info": {
      "codemirror_mode": {
        "name": "ipython",
        "version": 3
      },
      "file_extension": ".py",
      "mimetype": "text/x-python",
      "name": "python",
      "nbconvert_exporter": "python",
      "pygments_lexer": "ipython3",
      "version": "3.10.13"
    },
    "widgets": {
      "application/vnd.jupyter.widget-state+json": {
        "39fd68583ad04b7890f856b4b2839532": {
          "model_module": "@jupyter-widgets/controls",
          "model_module_version": "1.5.0",
          "model_name": "DescriptionStyleModel",
          "state": {
            "_model_module": "@jupyter-widgets/controls",
            "_model_module_version": "1.5.0",
            "_model_name": "DescriptionStyleModel",
            "_view_count": null,
            "_view_module": "@jupyter-widgets/base",
            "_view_module_version": "1.2.0",
            "_view_name": "StyleView",
            "description_width": ""
          }
        },
        "57278cf4ee724a20aaa98cc96c54248a": {
          "model_module": "@jupyter-widgets/controls",
          "model_module_version": "1.5.0",
          "model_name": "TextModel",
          "state": {
            "_dom_classes": [],
            "_model_module": "@jupyter-widgets/controls",
            "_model_module_version": "1.5.0",
            "_model_name": "TextModel",
            "_view_count": null,
            "_view_module": "@jupyter-widgets/controls",
            "_view_module_version": "1.5.0",
            "_view_name": "TextView",
            "continuous_update": true,
            "description": "Season:",
            "description_tooltip": null,
            "disabled": false,
            "layout": "IPY_MODEL_f52a3318c31b49668c2750ba38711441",
            "placeholder": "​",
            "style": "IPY_MODEL_39fd68583ad04b7890f856b4b2839532",
            "value": "2016"
          }
        },
        "f52a3318c31b49668c2750ba38711441": {
          "model_module": "@jupyter-widgets/base",
          "model_module_version": "1.2.0",
          "model_name": "LayoutModel",
          "state": {
            "_model_module": "@jupyter-widgets/base",
            "_model_module_version": "1.2.0",
            "_model_name": "LayoutModel",
            "_view_count": null,
            "_view_module": "@jupyter-widgets/base",
            "_view_module_version": "1.2.0",
            "_view_name": "LayoutView",
            "align_content": null,
            "align_items": null,
            "align_self": null,
            "border": null,
            "bottom": null,
            "display": null,
            "flex": null,
            "flex_flow": null,
            "grid_area": null,
            "grid_auto_columns": null,
            "grid_auto_flow": null,
            "grid_auto_rows": null,
            "grid_column": null,
            "grid_gap": null,
            "grid_row": null,
            "grid_template_areas": null,
            "grid_template_columns": null,
            "grid_template_rows": null,
            "height": null,
            "justify_content": null,
            "justify_items": null,
            "left": null,
            "margin": null,
            "max_height": null,
            "max_width": null,
            "min_height": null,
            "min_width": null,
            "object_fit": null,
            "object_position": null,
            "order": null,
            "overflow": null,
            "overflow_x": null,
            "overflow_y": null,
            "padding": null,
            "right": null,
            "top": null,
            "visibility": null,
            "width": null
          }
        }
      }
    }
  },
  "nbformat": 4,
  "nbformat_minor": 0
}
